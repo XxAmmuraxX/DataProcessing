{
  "cells": [
    {
      "cell_type": "markdown",
      "source": [
        "# Task 1\n",
        "merging the tables"
      ],
      "metadata": {},
      "id": "da981d60-c0ec-43aa-a949-4c81afc24c3d"
    },
    {
      "cell_type": "code",
      "source": [
        "import pandas as pd\n",
        "import numpy as np"
      ],
      "outputs": [],
      "execution_count": 1,
      "metadata": {},
      "id": "ed7ecc42-b71f-4bd5-a8c4-3d27033ec368"
    },
    {
      "cell_type": "code",
      "source": [
        "mat = pd.read_csv(\"student-mat.csv\", sep=\";\")\n",
        "por = pd.read_csv(\"student-por.csv\", sep=\";\")"
      ],
      "outputs": [],
      "execution_count": 3,
      "metadata": {},
      "id": "3df3238b-8ff4-4519-9e4f-68ead596c2f6"
    },
    {
      "cell_type": "markdown",
      "source": [
        "during merging i used outer join so that i don't lose the data for the students that have only math or only portuguese"
      ],
      "metadata": {},
      "id": "8fa85680-10b6-4150-9cb9-d638d1f27df3"
    },
    {
      "cell_type": "code",
      "source": [
        "students = pd.merge(mat,por,on=[\"school\",\"sex\",\"age\",\"address\",\"famsize\",\"Pstatus\",\"Medu\",\"Fedu\",\"Mjob\",\"Fjob\",\"reason\",\"nursery\",\"internet\"],how=\"outer\",suffixes=(\"-mat\",\"-por\"))"
      ],
      "outputs": [],
      "execution_count": 6,
      "metadata": {},
      "id": "84bed305-5cd9-41cb-87d8-3b64ec9a8ea6"
    },
    {
      "cell_type": "code",
      "source": [
        "students.info()"
      ],
      "outputs": [
        {
          "output_type": "stream",
          "name": "stdout",
          "text": "<class 'pandas.core.frame.DataFrame'>\nRangeIndex: 682 entries, 0 to 681\nData columns (total 53 columns):\n #   Column          Non-Null Count  Dtype  \n---  ------          --------------  -----  \n 0   school          682 non-null    object \n 1   sex             682 non-null    object \n 2   age             682 non-null    int64  \n 3   address         682 non-null    object \n 4   famsize         682 non-null    object \n 5   Pstatus         682 non-null    object \n 6   Medu            682 non-null    int64  \n 7   Fedu            682 non-null    int64  \n 8   Mjob            682 non-null    object \n 9   Fjob            682 non-null    object \n 10  reason          682 non-null    object \n 11  guardian-mat    407 non-null    object \n 12  traveltime-mat  407 non-null    float64\n 13  studytime-mat   407 non-null    float64\n 14  failures-mat    407 non-null    float64\n 15  schoolsup-mat   407 non-null    object \n 16  famsup-mat      407 non-null    object \n 17  paid-mat        407 non-null    object \n 18  activities-mat  407 non-null    object \n 19  nursery         682 non-null    object \n 20  higher-mat      407 non-null    object \n 21  internet        682 non-null    object \n 22  romantic-mat    407 non-null    object \n 23  famrel-mat      407 non-null    float64\n 24  freetime-mat    407 non-null    float64\n 25  goout-mat       407 non-null    float64\n 26  Dalc-mat        407 non-null    float64\n 27  Walc-mat        407 non-null    float64\n 28  health-mat      407 non-null    float64\n 29  absences-mat    407 non-null    float64\n 30  G1-mat          407 non-null    float64\n 31  G2-mat          407 non-null    float64\n 32  G3-mat          407 non-null    float64\n 33  guardian-por    657 non-null    object \n 34  traveltime-por  657 non-null    float64\n 35  studytime-por   657 non-null    float64\n 36  failures-por    657 non-null    float64\n 37  schoolsup-por   657 non-null    object \n 38  famsup-por      657 non-null    object \n 39  paid-por        657 non-null    object \n 40  activities-por  657 non-null    object \n 41  higher-por      657 non-null    object \n 42  romantic-por    657 non-null    object \n 43  famrel-por      657 non-null    float64\n 44  freetime-por    657 non-null    float64\n 45  goout-por       657 non-null    float64\n 46  Dalc-por        657 non-null    float64\n 47  Walc-por        657 non-null    float64\n 48  health-por      657 non-null    float64\n 49  absences-por    657 non-null    float64\n 50  G1-por          657 non-null    float64\n 51  G2-por          657 non-null    float64\n 52  G3-por          657 non-null    float64\ndtypes: float64(26), int64(3), object(24)\nmemory usage: 282.5+ KB\n"
        }
      ],
      "execution_count": 8,
      "metadata": {},
      "id": "01fc9a55-7020-41d2-8d8d-6a541ae8f50a"
    },
    {
      "cell_type": "markdown",
      "source": [
        "# Task2\n",
        "### Part 1\n",
        "scaling grades to 100"
      ],
      "metadata": {},
      "id": "c8055652-6853-453e-bffe-7c9c516b3dc5"
    },
    {
      "cell_type": "code",
      "source": [
        "students['G3-mat-100'] = students['G3-mat'] * 5\n",
        "students['G3-por-100'] = students['G3-por'] * 5"
      ],
      "outputs": [],
      "execution_count": 11,
      "metadata": {},
      "id": "ca784f6f-8617-4dc0-b5fa-11dbcd92311a"
    },
    {
      "cell_type": "code",
      "source": [
        "students.head()"
      ],
      "outputs": [
        {
          "output_type": "execute_result",
          "execution_count": 13,
          "data": {
            "text/html": "<div>\n<style scoped>\n    .dataframe tbody tr th:only-of-type {\n        vertical-align: middle;\n    }\n\n    .dataframe tbody tr th {\n        vertical-align: top;\n    }\n\n    .dataframe thead th {\n        text-align: right;\n    }\n</style>\n<table border=\"1\" class=\"dataframe\">\n  <thead>\n    <tr style=\"text-align: right;\">\n      <th></th>\n      <th>school</th>\n      <th>sex</th>\n      <th>age</th>\n      <th>address</th>\n      <th>famsize</th>\n      <th>Pstatus</th>\n      <th>Medu</th>\n      <th>Fedu</th>\n      <th>Mjob</th>\n      <th>Fjob</th>\n      <th>...</th>\n      <th>goout-por</th>\n      <th>Dalc-por</th>\n      <th>Walc-por</th>\n      <th>health-por</th>\n      <th>absences-por</th>\n      <th>G1-por</th>\n      <th>G2-por</th>\n      <th>G3-por</th>\n      <th>G3-mat-100</th>\n      <th>G3-por-100</th>\n    </tr>\n  </thead>\n  <tbody>\n    <tr>\n      <th>0</th>\n      <td>GP</td>\n      <td>F</td>\n      <td>15</td>\n      <td>R</td>\n      <td>GT3</td>\n      <td>T</td>\n      <td>1</td>\n      <td>1</td>\n      <td>at_home</td>\n      <td>other</td>\n      <td>...</td>\n      <td>2.0</td>\n      <td>1.0</td>\n      <td>1.0</td>\n      <td>1.0</td>\n      <td>4.0</td>\n      <td>13.0</td>\n      <td>13.0</td>\n      <td>13.0</td>\n      <td>50.0</td>\n      <td>65.0</td>\n    </tr>\n    <tr>\n      <th>1</th>\n      <td>GP</td>\n      <td>F</td>\n      <td>15</td>\n      <td>R</td>\n      <td>GT3</td>\n      <td>T</td>\n      <td>1</td>\n      <td>1</td>\n      <td>other</td>\n      <td>other</td>\n      <td>...</td>\n      <td>5.0</td>\n      <td>1.0</td>\n      <td>1.0</td>\n      <td>1.0</td>\n      <td>2.0</td>\n      <td>8.0</td>\n      <td>9.0</td>\n      <td>9.0</td>\n      <td>NaN</td>\n      <td>45.0</td>\n    </tr>\n    <tr>\n      <th>2</th>\n      <td>GP</td>\n      <td>F</td>\n      <td>15</td>\n      <td>R</td>\n      <td>GT3</td>\n      <td>T</td>\n      <td>1</td>\n      <td>1</td>\n      <td>other</td>\n      <td>other</td>\n      <td>...</td>\n      <td>4.0</td>\n      <td>2.0</td>\n      <td>4.0</td>\n      <td>5.0</td>\n      <td>2.0</td>\n      <td>13.0</td>\n      <td>11.0</td>\n      <td>11.0</td>\n      <td>25.0</td>\n      <td>55.0</td>\n    </tr>\n    <tr>\n      <th>3</th>\n      <td>GP</td>\n      <td>F</td>\n      <td>15</td>\n      <td>R</td>\n      <td>GT3</td>\n      <td>T</td>\n      <td>2</td>\n      <td>2</td>\n      <td>at_home</td>\n      <td>other</td>\n      <td>...</td>\n      <td>1.0</td>\n      <td>1.0</td>\n      <td>1.0</td>\n      <td>2.0</td>\n      <td>8.0</td>\n      <td>14.0</td>\n      <td>13.0</td>\n      <td>12.0</td>\n      <td>65.0</td>\n      <td>60.0</td>\n    </tr>\n    <tr>\n      <th>4</th>\n      <td>GP</td>\n      <td>F</td>\n      <td>15</td>\n      <td>R</td>\n      <td>GT3</td>\n      <td>T</td>\n      <td>2</td>\n      <td>4</td>\n      <td>services</td>\n      <td>health</td>\n      <td>...</td>\n      <td>2.0</td>\n      <td>1.0</td>\n      <td>1.0</td>\n      <td>5.0</td>\n      <td>2.0</td>\n      <td>10.0</td>\n      <td>11.0</td>\n      <td>10.0</td>\n      <td>40.0</td>\n      <td>50.0</td>\n    </tr>\n  </tbody>\n</table>\n<p>5 rows × 55 columns</p>\n</div>",
            "text/plain": "  school sex  age address famsize Pstatus  Medu  Fedu      Mjob    Fjob  ...  \\\n0     GP   F   15       R     GT3       T     1     1   at_home   other  ...   \n1     GP   F   15       R     GT3       T     1     1     other   other  ...   \n2     GP   F   15       R     GT3       T     1     1     other   other  ...   \n3     GP   F   15       R     GT3       T     2     2   at_home   other  ...   \n4     GP   F   15       R     GT3       T     2     4  services  health  ...   \n\n  goout-por Dalc-por  Walc-por  health-por  absences-por G1-por G2-por G3-por  \\\n0       2.0      1.0       1.0         1.0           4.0   13.0   13.0   13.0   \n1       5.0      1.0       1.0         1.0           2.0    8.0    9.0    9.0   \n2       4.0      2.0       4.0         5.0           2.0   13.0   11.0   11.0   \n3       1.0      1.0       1.0         2.0           8.0   14.0   13.0   12.0   \n4       2.0      1.0       1.0         5.0           2.0   10.0   11.0   10.0   \n\n  G3-mat-100 G3-por-100  \n0       50.0       65.0  \n1        NaN       45.0  \n2       25.0       55.0  \n3       65.0       60.0  \n4       40.0       50.0  \n\n[5 rows x 55 columns]"
          },
          "metadata": {}
        }
      ],
      "execution_count": 13,
      "metadata": {},
      "id": "ad354c5f-9331-4538-8828-72a1b6e5cbc1"
    },
    {
      "cell_type": "markdown",
      "source": [
        "### Part 2\n",
        "analyzing how weekly study time affects grades"
      ],
      "metadata": {},
      "id": "fd2a4b60-4b1f-4e0f-818a-bdce6081ebf6"
    },
    {
      "cell_type": "code",
      "source": [
        "study_time_math = students.groupby('studytime-mat')['G3-mat-100'].agg(['min', 'max', 'median', 'mean']).reset_index()\n",
        "study_time_por = students.groupby('studytime-por')['G3-por-100'].agg(['min', 'max', 'median', 'mean']).reset_index()"
      ],
      "outputs": [],
      "execution_count": 16,
      "metadata": {},
      "id": "ece7e705-4efd-49e0-961b-403cc52f3f3d"
    },
    {
      "cell_type": "code",
      "source": [
        "study_time_math"
      ],
      "outputs": [
        {
          "output_type": "execute_result",
          "execution_count": 18,
          "data": {
            "text/html": "<div>\n<style scoped>\n    .dataframe tbody tr th:only-of-type {\n        vertical-align: middle;\n    }\n\n    .dataframe tbody tr th {\n        vertical-align: top;\n    }\n\n    .dataframe thead th {\n        text-align: right;\n    }\n</style>\n<table border=\"1\" class=\"dataframe\">\n  <thead>\n    <tr style=\"text-align: right;\">\n      <th></th>\n      <th>studytime-mat</th>\n      <th>min</th>\n      <th>max</th>\n      <th>median</th>\n      <th>mean</th>\n    </tr>\n  </thead>\n  <tbody>\n    <tr>\n      <th>0</th>\n      <td>1.0</td>\n      <td>0.0</td>\n      <td>95.0</td>\n      <td>50.0</td>\n      <td>49.363636</td>\n    </tr>\n    <tr>\n      <th>1</th>\n      <td>2.0</td>\n      <td>0.0</td>\n      <td>95.0</td>\n      <td>55.0</td>\n      <td>50.541872</td>\n    </tr>\n    <tr>\n      <th>2</th>\n      <td>3.0</td>\n      <td>0.0</td>\n      <td>95.0</td>\n      <td>60.0</td>\n      <td>57.313433</td>\n    </tr>\n    <tr>\n      <th>3</th>\n      <td>4.0</td>\n      <td>0.0</td>\n      <td>100.0</td>\n      <td>60.0</td>\n      <td>56.296296</td>\n    </tr>\n  </tbody>\n</table>\n</div>",
            "text/plain": "   studytime-mat  min    max  median       mean\n0            1.0  0.0   95.0    50.0  49.363636\n1            2.0  0.0   95.0    55.0  50.541872\n2            3.0  0.0   95.0    60.0  57.313433\n3            4.0  0.0  100.0    60.0  56.296296"
          },
          "metadata": {}
        }
      ],
      "execution_count": 18,
      "metadata": {},
      "id": "965c5f60-813a-4577-9906-d8cc292780f6"
    },
    {
      "cell_type": "markdown",
      "source": [
        "We can see that students that did not study for more than 10 hours did not get grade = 100.\n",
        "We can also see that studying less than 2 hours and more than 2 but less than 5 hours did not have an effect on the grade that much.\n",
        "We can see that when the study time increased the mean grade generally increased but, when the study time increased to more than 10 hours on average it affected the grade negatively."
      ],
      "metadata": {},
      "id": "02bdd2ea-1313-49dd-a566-44d7f26c535e"
    },
    {
      "cell_type": "code",
      "source": [
        "study_time_por"
      ],
      "outputs": [
        {
          "output_type": "execute_result",
          "execution_count": 21,
          "data": {
            "text/html": "<div>\n<style scoped>\n    .dataframe tbody tr th:only-of-type {\n        vertical-align: middle;\n    }\n\n    .dataframe tbody tr th {\n        vertical-align: top;\n    }\n\n    .dataframe thead th {\n        text-align: right;\n    }\n</style>\n<table border=\"1\" class=\"dataframe\">\n  <thead>\n    <tr style=\"text-align: right;\">\n      <th></th>\n      <th>studytime-por</th>\n      <th>min</th>\n      <th>max</th>\n      <th>median</th>\n      <th>mean</th>\n    </tr>\n  </thead>\n  <tbody>\n    <tr>\n      <th>0</th>\n      <td>1.0</td>\n      <td>0.0</td>\n      <td>90.0</td>\n      <td>55.0</td>\n      <td>54.050926</td>\n    </tr>\n    <tr>\n      <th>1</th>\n      <td>2.0</td>\n      <td>0.0</td>\n      <td>95.0</td>\n      <td>60.0</td>\n      <td>60.519481</td>\n    </tr>\n    <tr>\n      <th>2</th>\n      <td>3.0</td>\n      <td>40.0</td>\n      <td>90.0</td>\n      <td>65.0</td>\n      <td>66.173469</td>\n    </tr>\n    <tr>\n      <th>3</th>\n      <td>4.0</td>\n      <td>30.0</td>\n      <td>95.0</td>\n      <td>65.0</td>\n      <td>65.285714</td>\n    </tr>\n  </tbody>\n</table>\n</div>",
            "text/plain": "   studytime-por   min   max  median       mean\n0            1.0   0.0  90.0    55.0  54.050926\n1            2.0   0.0  95.0    60.0  60.519481\n2            3.0  40.0  90.0    65.0  66.173469\n3            4.0  30.0  95.0    65.0  65.285714"
          },
          "metadata": {}
        }
      ],
      "execution_count": 21,
      "metadata": {},
      "id": "2fd65938-5230-4b3b-9714-1ae2df920935"
    },
    {
      "cell_type": "markdown",
      "source": [
        "We can see that when the study time increased the mean grade generally increased but, when the study time increased to more than 10 hours on average it affected the grade negatively."
      ],
      "metadata": {},
      "id": "217a6221-2362-4ca5-96eb-c82250c9ae8c"
    },
    {
      "cell_type": "markdown",
      "source": [
        "### Part 3\n",
        "seeing the correlation between the age of students and their number of absences"
      ],
      "metadata": {},
      "id": "c35021f4-cf7e-46a9-b693-e8eee5bb32fb"
    },
    {
      "cell_type": "code",
      "source": [
        "c_age_grade_mat = students['age'].corr(students['absences-mat'])\n",
        "c_age_grade_por = students['age'].corr(students['absences-por'])"
      ],
      "outputs": [],
      "execution_count": 25,
      "metadata": {},
      "id": "3a66b55e-acd4-4e87-9f21-2bbe6dc84c23"
    },
    {
      "cell_type": "code",
      "source": [
        "print(f'The correlation between age and average absences for Math is: {c_age_grade_mat}')"
      ],
      "outputs": [
        {
          "output_type": "stream",
          "name": "stdout",
          "text": "The correlation between age and average absences for Math is: 0.17658181855558297\n"
        }
      ],
      "execution_count": 27,
      "metadata": {},
      "id": "8f10586f-5a4f-4403-89e7-3690c8ccb1fd"
    },
    {
      "cell_type": "markdown",
      "source": [
        "Which shows that there is some influence of age on the number of absences but its quite weak."
      ],
      "metadata": {},
      "id": "7a154609-129e-49bf-b857-e6a7dda809a2"
    },
    {
      "cell_type": "code",
      "source": [
        "print(f'The correlation between age and average absences Portuguese is: {c_age_grade_por}')"
      ],
      "outputs": [
        {
          "output_type": "stream",
          "name": "stdout",
          "text": "The correlation between age and average absences Portuguese is: 0.14506534463300436\n"
        }
      ],
      "execution_count": 30,
      "metadata": {},
      "id": "724d9b1c-4783-499b-8619-8817fd9afe6e"
    },
    {
      "cell_type": "markdown",
      "source": [
        "Which is similar to the above one but even weaker."
      ],
      "metadata": {},
      "id": "ce3974ef-9d99-4df1-aeb0-cab7d63cae7d"
    },
    {
      "cell_type": "markdown",
      "source": [
        "# Task 3\n",
        "### Part 1\n",
        "seeing how weekend and workday alcohol consumption is influencing the grades of the students.\n",
        "\n",
        "I calculate the avg grade for the students for the math and portuguese as one to see the general effect."
      ],
      "metadata": {},
      "id": "ae05e044-f612-48a1-a36f-fcd0cfa5d872"
    },
    {
      "cell_type": "code",
      "source": [
        "students['G-avg-mat'] = (students['G1-mat'] + students['G2-mat'] + students['G3-mat']) / 3 * 5\n",
        "students['G-avg-por'] = (students['G1-por'] + students['G2-por'] + students['G3-por']) / 3 * 5\n",
        "students['G-avg'] = np.nanmean(students[['G-avg-mat', 'G-avg-por']], axis=1) # I used nanmean because some students have only 1 subject grade\n",
        "students.head()"
      ],
      "outputs": [
        {
          "output_type": "execute_result",
          "execution_count": 79,
          "data": {
            "text/html": "<div>\n<style scoped>\n    .dataframe tbody tr th:only-of-type {\n        vertical-align: middle;\n    }\n\n    .dataframe tbody tr th {\n        vertical-align: top;\n    }\n\n    .dataframe thead th {\n        text-align: right;\n    }\n</style>\n<table border=\"1\" class=\"dataframe\">\n  <thead>\n    <tr style=\"text-align: right;\">\n      <th></th>\n      <th>school</th>\n      <th>sex</th>\n      <th>age</th>\n      <th>address</th>\n      <th>famsize</th>\n      <th>Pstatus</th>\n      <th>Medu</th>\n      <th>Fedu</th>\n      <th>Mjob</th>\n      <th>Fjob</th>\n      <th>...</th>\n      <th>health-por</th>\n      <th>absences-por</th>\n      <th>G1-por</th>\n      <th>G2-por</th>\n      <th>G3-por</th>\n      <th>G3-mat-100</th>\n      <th>G3-por-100</th>\n      <th>G-avg-mat</th>\n      <th>G-avg-por</th>\n      <th>G-avg</th>\n    </tr>\n  </thead>\n  <tbody>\n    <tr>\n      <th>0</th>\n      <td>GP</td>\n      <td>F</td>\n      <td>15</td>\n      <td>R</td>\n      <td>GT3</td>\n      <td>T</td>\n      <td>1</td>\n      <td>1</td>\n      <td>at_home</td>\n      <td>other</td>\n      <td>...</td>\n      <td>1.0</td>\n      <td>4.0</td>\n      <td>13.0</td>\n      <td>13.0</td>\n      <td>13.0</td>\n      <td>50.0</td>\n      <td>65.0</td>\n      <td>45.000000</td>\n      <td>65.000000</td>\n      <td>55.000000</td>\n    </tr>\n    <tr>\n      <th>1</th>\n      <td>GP</td>\n      <td>F</td>\n      <td>15</td>\n      <td>R</td>\n      <td>GT3</td>\n      <td>T</td>\n      <td>1</td>\n      <td>1</td>\n      <td>other</td>\n      <td>other</td>\n      <td>...</td>\n      <td>1.0</td>\n      <td>2.0</td>\n      <td>8.0</td>\n      <td>9.0</td>\n      <td>9.0</td>\n      <td>NaN</td>\n      <td>45.0</td>\n      <td>NaN</td>\n      <td>43.333333</td>\n      <td>43.333333</td>\n    </tr>\n    <tr>\n      <th>2</th>\n      <td>GP</td>\n      <td>F</td>\n      <td>15</td>\n      <td>R</td>\n      <td>GT3</td>\n      <td>T</td>\n      <td>1</td>\n      <td>1</td>\n      <td>other</td>\n      <td>other</td>\n      <td>...</td>\n      <td>5.0</td>\n      <td>2.0</td>\n      <td>13.0</td>\n      <td>11.0</td>\n      <td>11.0</td>\n      <td>25.0</td>\n      <td>55.0</td>\n      <td>31.666667</td>\n      <td>58.333333</td>\n      <td>45.000000</td>\n    </tr>\n    <tr>\n      <th>3</th>\n      <td>GP</td>\n      <td>F</td>\n      <td>15</td>\n      <td>R</td>\n      <td>GT3</td>\n      <td>T</td>\n      <td>2</td>\n      <td>2</td>\n      <td>at_home</td>\n      <td>other</td>\n      <td>...</td>\n      <td>2.0</td>\n      <td>8.0</td>\n      <td>14.0</td>\n      <td>13.0</td>\n      <td>12.0</td>\n      <td>65.0</td>\n      <td>60.0</td>\n      <td>66.666667</td>\n      <td>65.000000</td>\n      <td>65.833333</td>\n    </tr>\n    <tr>\n      <th>4</th>\n      <td>GP</td>\n      <td>F</td>\n      <td>15</td>\n      <td>R</td>\n      <td>GT3</td>\n      <td>T</td>\n      <td>2</td>\n      <td>4</td>\n      <td>services</td>\n      <td>health</td>\n      <td>...</td>\n      <td>5.0</td>\n      <td>2.0</td>\n      <td>10.0</td>\n      <td>11.0</td>\n      <td>10.0</td>\n      <td>40.0</td>\n      <td>50.0</td>\n      <td>45.000000</td>\n      <td>51.666667</td>\n      <td>48.333333</td>\n    </tr>\n  </tbody>\n</table>\n<p>5 rows × 58 columns</p>\n</div>",
            "text/plain": "  school sex  age address famsize Pstatus  Medu  Fedu      Mjob    Fjob  ...  \\\n0     GP   F   15       R     GT3       T     1     1   at_home   other  ...   \n1     GP   F   15       R     GT3       T     1     1     other   other  ...   \n2     GP   F   15       R     GT3       T     1     1     other   other  ...   \n3     GP   F   15       R     GT3       T     2     2   at_home   other  ...   \n4     GP   F   15       R     GT3       T     2     4  services  health  ...   \n\n  health-por absences-por  G1-por  G2-por  G3-por G3-mat-100 G3-por-100  \\\n0        1.0          4.0    13.0    13.0    13.0       50.0       65.0   \n1        1.0          2.0     8.0     9.0     9.0        NaN       45.0   \n2        5.0          2.0    13.0    11.0    11.0       25.0       55.0   \n3        2.0          8.0    14.0    13.0    12.0       65.0       60.0   \n4        5.0          2.0    10.0    11.0    10.0       40.0       50.0   \n\n   G-avg-mat  G-avg-por      G-avg  \n0  45.000000  65.000000  55.000000  \n1        NaN  43.333333  43.333333  \n2  31.666667  58.333333  45.000000  \n3  66.666667  65.000000  65.833333  \n4  45.000000  51.666667  48.333333  \n\n[5 rows x 58 columns]"
          },
          "metadata": {}
        }
      ],
      "execution_count": 79,
      "metadata": {},
      "id": "76fff161-0706-4bfa-baad-d9fe8e0c2c0e"
    },
    {
      "cell_type": "code",
      "source": [
        "c_walc_mat = students['Walc-mat'].corr(students['G-avg'])\n",
        "c_walc_por = students['Walc-por'].corr(students['G-avg'])\n",
        "c_dalc_mat = students['Dalc-mat'].corr(students['G-avg'])\n",
        "c_dalc_por = students['Dalc-por'].corr(students['G-avg'])"
      ],
      "outputs": [],
      "execution_count": 81,
      "metadata": {},
      "id": "20c0a7d6-d37f-46c3-9ccd-cdc2e6a9b5eb"
    },
    {
      "cell_type": "code",
      "source": [
        "print(f'The correlation between weekend alcohol consumption and the students grades is:\\n Math = {c_walc_mat}\\n Portuguese = {c_walc_por}')"
      ],
      "outputs": [
        {
          "output_type": "stream",
          "name": "stdout",
          "text": "The correlation between weekend alcohol consumption and the students grades is:\n Math = -0.1572910998878626\n Portuguese = -0.13785114460511438\n"
        }
      ],
      "execution_count": 83,
      "metadata": {},
      "id": "365b4c8a-b9e1-4639-8f40-2b710a5d68ba"
    },
    {
      "cell_type": "markdown",
      "source": [
        "We can see that there is a correlation between them, so the alcohol consumption is affecting the students grades negatively, but the correlation is not that strong."
      ],
      "metadata": {},
      "id": "e7663d06-747d-40f0-a7f3-092227133243"
    },
    {
      "cell_type": "code",
      "source": [
        "print(f'The correlation between workday alcohol consumption and the students grades is:\\n Math = {c_dalc_mat}\\n Portuguese = {c_dalc_por}')"
      ],
      "outputs": [
        {
          "output_type": "stream",
          "name": "stdout",
          "text": "The correlation between workday alcohol consumption and the students grades is:\n Math = -0.166958534599427\n Portuguese = -0.14801364816280746\n"
        }
      ],
      "execution_count": 86,
      "metadata": {},
      "id": "cfc68d1e-4fa6-4480-9c3f-4f04852332e9"
    },
    {
      "cell_type": "markdown",
      "source": [
        "We can also see the same here but it seems that workday alcohol consumption has a bit stronger impact on the grades."
      ],
      "metadata": {},
      "id": "fd45f884-1c50-4018-8ce3-f844c0e8ad41"
    },
    {
      "cell_type": "code",
      "source": [
        "walc_performance_mat = students.groupby('Walc-mat')['G-avg'].agg(['min', 'max', 'median', 'mean']).reset_index()\n",
        "dalc_performance_mat = students.groupby('Dalc-mat')['G-avg'].agg(['min', 'max', 'median', 'mean']).reset_index()\n",
        "walc_performance_por = students.groupby('Walc-por')['G-avg'].agg(['min', 'max', 'median', 'mean']).reset_index()\n",
        "dalc_performance_por = students.groupby('Dalc-por')['G-avg'].agg(['min', 'max', 'median', 'mean']).reset_index()"
      ],
      "outputs": [],
      "execution_count": 89,
      "metadata": {},
      "id": "3c73df23-1726-4aa2-acb3-11c6f8d03e6d"
    },
    {
      "cell_type": "code",
      "source": [
        "walc_performance_mat"
      ],
      "outputs": [
        {
          "output_type": "execute_result",
          "execution_count": 91,
          "data": {
            "text/html": "<div>\n<style scoped>\n    .dataframe tbody tr th:only-of-type {\n        vertical-align: middle;\n    }\n\n    .dataframe tbody tr th {\n        vertical-align: top;\n    }\n\n    .dataframe thead th {\n        text-align: right;\n    }\n</style>\n<table border=\"1\" class=\"dataframe\">\n  <thead>\n    <tr style=\"text-align: right;\">\n      <th></th>\n      <th>Walc-mat</th>\n      <th>min</th>\n      <th>max</th>\n      <th>median</th>\n      <th>mean</th>\n    </tr>\n  </thead>\n  <tbody>\n    <tr>\n      <th>0</th>\n      <td>1.0</td>\n      <td>26.666667</td>\n      <td>91.666667</td>\n      <td>58.333333</td>\n      <td>59.123932</td>\n    </tr>\n    <tr>\n      <th>1</th>\n      <td>2.0</td>\n      <td>18.333333</td>\n      <td>90.833333</td>\n      <td>57.500000</td>\n      <td>57.101852</td>\n    </tr>\n    <tr>\n      <th>2</th>\n      <td>3.0</td>\n      <td>20.000000</td>\n      <td>85.000000</td>\n      <td>56.666667</td>\n      <td>57.355967</td>\n    </tr>\n    <tr>\n      <th>3</th>\n      <td>4.0</td>\n      <td>11.666667</td>\n      <td>81.666667</td>\n      <td>53.333333</td>\n      <td>52.435897</td>\n    </tr>\n    <tr>\n      <th>4</th>\n      <td>5.0</td>\n      <td>25.833333</td>\n      <td>80.833333</td>\n      <td>51.250000</td>\n      <td>52.380952</td>\n    </tr>\n  </tbody>\n</table>\n</div>",
            "text/plain": "   Walc-mat        min        max     median       mean\n0       1.0  26.666667  91.666667  58.333333  59.123932\n1       2.0  18.333333  90.833333  57.500000  57.101852\n2       3.0  20.000000  85.000000  56.666667  57.355967\n3       4.0  11.666667  81.666667  53.333333  52.435897\n4       5.0  25.833333  80.833333  51.250000  52.380952"
          },
          "metadata": {}
        }
      ],
      "execution_count": 91,
      "metadata": {},
      "id": "1a92113e-2ba4-4456-84ec-2f71e816f5e9"
    },
    {
      "cell_type": "code",
      "source": [
        "walc_performance_por"
      ],
      "outputs": [
        {
          "output_type": "execute_result",
          "execution_count": 93,
          "data": {
            "text/html": "<div>\n<style scoped>\n    .dataframe tbody tr th:only-of-type {\n        vertical-align: middle;\n    }\n\n    .dataframe tbody tr th {\n        vertical-align: top;\n    }\n\n    .dataframe thead th {\n        text-align: right;\n    }\n</style>\n<table border=\"1\" class=\"dataframe\">\n  <thead>\n    <tr style=\"text-align: right;\">\n      <th></th>\n      <th>Walc-por</th>\n      <th>min</th>\n      <th>max</th>\n      <th>median</th>\n      <th>mean</th>\n    </tr>\n  </thead>\n  <tbody>\n    <tr>\n      <th>0</th>\n      <td>1.0</td>\n      <td>8.333333</td>\n      <td>91.666667</td>\n      <td>57.083333</td>\n      <td>57.166667</td>\n    </tr>\n    <tr>\n      <th>1</th>\n      <td>2.0</td>\n      <td>6.666667</td>\n      <td>90.833333</td>\n      <td>56.666667</td>\n      <td>57.153680</td>\n    </tr>\n    <tr>\n      <th>2</th>\n      <td>3.0</td>\n      <td>8.333333</td>\n      <td>88.333333</td>\n      <td>55.000000</td>\n      <td>55.340278</td>\n    </tr>\n    <tr>\n      <th>3</th>\n      <td>4.0</td>\n      <td>13.333333</td>\n      <td>81.666667</td>\n      <td>50.000000</td>\n      <td>51.941288</td>\n    </tr>\n    <tr>\n      <th>4</th>\n      <td>5.0</td>\n      <td>11.666667</td>\n      <td>80.833333</td>\n      <td>51.666667</td>\n      <td>51.222222</td>\n    </tr>\n  </tbody>\n</table>\n</div>",
            "text/plain": "   Walc-por        min        max     median       mean\n0       1.0   8.333333  91.666667  57.083333  57.166667\n1       2.0   6.666667  90.833333  56.666667  57.153680\n2       3.0   8.333333  88.333333  55.000000  55.340278\n3       4.0  13.333333  81.666667  50.000000  51.941288\n4       5.0  11.666667  80.833333  51.666667  51.222222"
          },
          "metadata": {}
        }
      ],
      "execution_count": 93,
      "metadata": {},
      "id": "67906241-126e-47f1-a194-15a293e417f8"
    },
    {
      "cell_type": "markdown",
      "source": [
        "Here we can observe the mean of the grade getting lower when the alcohol consumption is getting higher"
      ],
      "metadata": {},
      "id": "0be73d4b-6c97-424d-8dae-f90f93eb47f2"
    },
    {
      "cell_type": "code",
      "source": [
        "dalc_performance_mat"
      ],
      "outputs": [
        {
          "output_type": "execute_result",
          "execution_count": 96,
          "data": {
            "text/html": "<div>\n<style scoped>\n    .dataframe tbody tr th:only-of-type {\n        vertical-align: middle;\n    }\n\n    .dataframe tbody tr th {\n        vertical-align: top;\n    }\n\n    .dataframe thead th {\n        text-align: right;\n    }\n</style>\n<table border=\"1\" class=\"dataframe\">\n  <thead>\n    <tr style=\"text-align: right;\">\n      <th></th>\n      <th>Dalc-mat</th>\n      <th>min</th>\n      <th>max</th>\n      <th>median</th>\n      <th>mean</th>\n    </tr>\n  </thead>\n  <tbody>\n    <tr>\n      <th>0</th>\n      <td>1.0</td>\n      <td>18.333333</td>\n      <td>91.666667</td>\n      <td>58.333333</td>\n      <td>58.668415</td>\n    </tr>\n    <tr>\n      <th>1</th>\n      <td>2.0</td>\n      <td>11.666667</td>\n      <td>85.000000</td>\n      <td>55.000000</td>\n      <td>53.733766</td>\n    </tr>\n    <tr>\n      <th>2</th>\n      <td>3.0</td>\n      <td>30.833333</td>\n      <td>81.666667</td>\n      <td>53.333333</td>\n      <td>53.076923</td>\n    </tr>\n    <tr>\n      <th>3</th>\n      <td>4.0</td>\n      <td>25.000000</td>\n      <td>61.666667</td>\n      <td>46.666667</td>\n      <td>47.129630</td>\n    </tr>\n    <tr>\n      <th>4</th>\n      <td>5.0</td>\n      <td>35.000000</td>\n      <td>73.333333</td>\n      <td>55.833333</td>\n      <td>53.425926</td>\n    </tr>\n  </tbody>\n</table>\n</div>",
            "text/plain": "   Dalc-mat        min        max     median       mean\n0       1.0  18.333333  91.666667  58.333333  58.668415\n1       2.0  11.666667  85.000000  55.000000  53.733766\n2       3.0  30.833333  81.666667  53.333333  53.076923\n3       4.0  25.000000  61.666667  46.666667  47.129630\n4       5.0  35.000000  73.333333  55.833333  53.425926"
          },
          "metadata": {}
        }
      ],
      "execution_count": 96,
      "metadata": {},
      "id": "d416695b-644f-4a4e-8514-3d9d5ccbb718"
    },
    {
      "cell_type": "code",
      "source": [
        "dalc_performance_por"
      ],
      "outputs": [
        {
          "output_type": "execute_result",
          "execution_count": 98,
          "data": {
            "text/html": "<div>\n<style scoped>\n    .dataframe tbody tr th:only-of-type {\n        vertical-align: middle;\n    }\n\n    .dataframe tbody tr th {\n        vertical-align: top;\n    }\n\n    .dataframe thead th {\n        text-align: right;\n    }\n</style>\n<table border=\"1\" class=\"dataframe\">\n  <thead>\n    <tr style=\"text-align: right;\">\n      <th></th>\n      <th>Dalc-por</th>\n      <th>min</th>\n      <th>max</th>\n      <th>median</th>\n      <th>mean</th>\n    </tr>\n  </thead>\n  <tbody>\n    <tr>\n      <th>0</th>\n      <td>1.0</td>\n      <td>8.333333</td>\n      <td>91.666667</td>\n      <td>56.666667</td>\n      <td>57.122538</td>\n    </tr>\n    <tr>\n      <th>1</th>\n      <td>2.0</td>\n      <td>6.666667</td>\n      <td>88.333333</td>\n      <td>53.333333</td>\n      <td>53.130081</td>\n    </tr>\n    <tr>\n      <th>2</th>\n      <td>3.0</td>\n      <td>30.833333</td>\n      <td>90.000000</td>\n      <td>51.666667</td>\n      <td>53.643411</td>\n    </tr>\n    <tr>\n      <th>3</th>\n      <td>4.0</td>\n      <td>11.666667</td>\n      <td>68.333333</td>\n      <td>50.000000</td>\n      <td>48.284314</td>\n    </tr>\n    <tr>\n      <th>4</th>\n      <td>5.0</td>\n      <td>28.333333</td>\n      <td>73.333333</td>\n      <td>53.333333</td>\n      <td>49.558824</td>\n    </tr>\n  </tbody>\n</table>\n</div>",
            "text/plain": "   Dalc-por        min        max     median       mean\n0       1.0   8.333333  91.666667  56.666667  57.122538\n1       2.0   6.666667  88.333333  53.333333  53.130081\n2       3.0  30.833333  90.000000  51.666667  53.643411\n3       4.0  11.666667  68.333333  50.000000  48.284314\n4       5.0  28.333333  73.333333  53.333333  49.558824"
          },
          "metadata": {}
        }
      ],
      "execution_count": 98,
      "metadata": {},
      "id": "c718c59f-1364-4e5b-82ad-07288b45af3e"
    },
    {
      "cell_type": "markdown",
      "source": [
        "in the last 2 tables we can see the same decrease but for the 3rd table there was an unespected rise in the grade from 47 to 53 wehn the alcohol consumption rose to 5 which was unexpected."
      ],
      "metadata": {},
      "id": "b56cdcc9-6e3a-444e-95d0-62355eea51ec"
    },
    {
      "cell_type": "markdown",
      "source": [
        "### Part 2\n",
        "\n",
        "Checking how romantic relationships affect the desire of the student to pursue higher level education."
      ],
      "metadata": {},
      "id": "bca55b90-b048-49b6-8ef5-120c96964588"
    },
    {
      "cell_type": "code",
      "source": [
        "romantic_grades_mat = students.groupby('romantic-por')[['G-avg']].mean().reset_index()\n",
        "romantic_grades_por = students.groupby('romantic-mat')[['G-avg']].mean().reset_index()"
      ],
      "outputs": [],
      "execution_count": 102,
      "metadata": {},
      "id": "717e26cd-f396-40f5-8242-0a2b1610d7c6"
    },
    {
      "cell_type": "code",
      "source": [
        "romantic_grades_mat"
      ],
      "outputs": [
        {
          "output_type": "execute_result",
          "execution_count": 104,
          "data": {
            "text/html": "<div>\n<style scoped>\n    .dataframe tbody tr th:only-of-type {\n        vertical-align: middle;\n    }\n\n    .dataframe tbody tr th {\n        vertical-align: top;\n    }\n\n    .dataframe thead th {\n        text-align: right;\n    }\n</style>\n<table border=\"1\" class=\"dataframe\">\n  <thead>\n    <tr style=\"text-align: right;\">\n      <th></th>\n      <th>romantic-por</th>\n      <th>G-avg</th>\n    </tr>\n  </thead>\n  <tbody>\n    <tr>\n      <th>0</th>\n      <td>no</td>\n      <td>56.818910</td>\n    </tr>\n    <tr>\n      <th>1</th>\n      <td>yes</td>\n      <td>53.831259</td>\n    </tr>\n  </tbody>\n</table>\n</div>",
            "text/plain": "  romantic-por      G-avg\n0           no  56.818910\n1          yes  53.831259"
          },
          "metadata": {}
        }
      ],
      "execution_count": 104,
      "metadata": {},
      "id": "3c0ef8c0-8f8d-42af-b3c5-b58ffe00ff11"
    },
    {
      "cell_type": "code",
      "source": [
        "romantic_grades_por"
      ],
      "outputs": [
        {
          "output_type": "execute_result",
          "execution_count": 106,
          "data": {
            "text/html": "<div>\n<style scoped>\n    .dataframe tbody tr th:only-of-type {\n        vertical-align: middle;\n    }\n\n    .dataframe tbody tr th {\n        vertical-align: top;\n    }\n\n    .dataframe thead th {\n        text-align: right;\n    }\n</style>\n<table border=\"1\" class=\"dataframe\">\n  <thead>\n    <tr style=\"text-align: right;\">\n      <th></th>\n      <th>romantic-mat</th>\n      <th>G-avg</th>\n    </tr>\n  </thead>\n  <tbody>\n    <tr>\n      <th>0</th>\n      <td>no</td>\n      <td>57.747253</td>\n    </tr>\n    <tr>\n      <th>1</th>\n      <td>yes</td>\n      <td>55.497512</td>\n    </tr>\n  </tbody>\n</table>\n</div>",
            "text/plain": "  romantic-mat      G-avg\n0           no  57.747253\n1          yes  55.497512"
          },
          "metadata": {}
        }
      ],
      "execution_count": 106,
      "metadata": {},
      "id": "809dc45e-24e8-4ebe-8044-9f9b698e8186"
    },
    {
      "cell_type": "markdown",
      "source": [
        "we can see that when the students had romantic relationship then their average was less."
      ],
      "metadata": {},
      "id": "e2418c00-dbfa-4daa-8814-a271ce1c0b43"
    },
    {
      "cell_type": "code",
      "source": [
        "students['higher-mat'] = students['higher-mat'].apply(lambda x: 1 if x == 'yes' else 0 if x == 'no' else x)\n",
        "students['higher-por'] = students['higher-por'].apply(lambda x: 1 if x == 'yes' else 0 if x == 'no' else x)"
      ],
      "outputs": [],
      "execution_count": 109,
      "metadata": {
        "scrolled": true
      },
      "id": "93f38c41-7582-4dad-8f23-03a4f98e283e"
    },
    {
      "cell_type": "markdown",
      "source": [
        "I transfomed \"yes\" and \"no\" values for the \"higher-mat/por\" to 1 and 0 respectively so that I can easily calculate the mean of the yes and no."
      ],
      "metadata": {},
      "id": "b388fe0f-1fa9-48d2-affd-6ce5ec52198d"
    },
    {
      "cell_type": "code",
      "source": [
        "higher_romantic_mat = students.groupby('romantic-mat')[['higher-mat']].mean()\n",
        "higher_romantic_por = students.groupby('romantic-por')[['higher-por']].mean()\n",
        "higher_romantic_mat"
      ],
      "outputs": [
        {
          "output_type": "execute_result",
          "execution_count": 112,
          "data": {
            "text/html": "<div>\n<style scoped>\n    .dataframe tbody tr th:only-of-type {\n        vertical-align: middle;\n    }\n\n    .dataframe tbody tr th {\n        vertical-align: top;\n    }\n\n    .dataframe thead th {\n        text-align: right;\n    }\n</style>\n<table border=\"1\" class=\"dataframe\">\n  <thead>\n    <tr style=\"text-align: right;\">\n      <th></th>\n      <th>higher-mat</th>\n    </tr>\n    <tr>\n      <th>romantic-mat</th>\n      <th></th>\n    </tr>\n  </thead>\n  <tbody>\n    <tr>\n      <th>no</th>\n      <td>0.963370</td>\n    </tr>\n    <tr>\n      <th>yes</th>\n      <td>0.910448</td>\n    </tr>\n  </tbody>\n</table>\n</div>",
            "text/plain": "              higher-mat\nromantic-mat            \nno              0.963370\nyes             0.910448"
          },
          "metadata": {}
        }
      ],
      "execution_count": 112,
      "metadata": {},
      "id": "ec916918-2bf1-4ecf-9aef-10c371bd6e3c"
    },
    {
      "cell_type": "code",
      "source": [
        "higher_romantic_por"
      ],
      "outputs": [
        {
          "output_type": "execute_result",
          "execution_count": 114,
          "data": {
            "text/html": "<div>\n<style scoped>\n    .dataframe tbody tr th:only-of-type {\n        vertical-align: middle;\n    }\n\n    .dataframe tbody tr th {\n        vertical-align: top;\n    }\n\n    .dataframe thead th {\n        text-align: right;\n    }\n</style>\n<table border=\"1\" class=\"dataframe\">\n  <thead>\n    <tr style=\"text-align: right;\">\n      <th></th>\n      <th>higher-por</th>\n    </tr>\n    <tr>\n      <th>romantic-por</th>\n      <th></th>\n    </tr>\n  </thead>\n  <tbody>\n    <tr>\n      <th>no</th>\n      <td>0.915865</td>\n    </tr>\n    <tr>\n      <th>yes</th>\n      <td>0.850622</td>\n    </tr>\n  </tbody>\n</table>\n</div>",
            "text/plain": "              higher-por\nromantic-por            \nno              0.915865\nyes             0.850622"
          },
          "metadata": {}
        }
      ],
      "execution_count": 114,
      "metadata": {},
      "id": "1eebe7a4-3d79-47e1-9dad-9528c6a4b183"
    },
    {
      "cell_type": "markdown",
      "source": [
        "we can see that students in a romantic relationship are less willing to pursue higher education."
      ],
      "metadata": {},
      "id": "ce12d9d9-e931-43ac-8ce0-8b76a829b97c"
    }
  ],
  "metadata": {
    "kernelspec": {
      "name": "python",
      "language": "python",
      "display_name": "Pyolite (preview)"
    },
    "language_info": {
      "codemirror_mode": {
        "name": "python",
        "version": 3
      },
      "file_extension": ".py",
      "mimetype": "text/x-python",
      "name": "python",
      "nbconvert_exporter": "python",
      "pygments_lexer": "ipython3",
      "version": "3.8"
    },
    "kernel_info": {
      "name": "python"
    },
    "nteract": {
      "version": "nteract-front-end@1.0.0"
    }
  },
  "nbformat": 4,
  "nbformat_minor": 5
}
